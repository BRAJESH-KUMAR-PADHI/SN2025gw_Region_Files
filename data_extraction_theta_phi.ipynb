{
  "nbformat": 4,
  "nbformat_minor": 0,
  "metadata": {
    "colab": {
      "provenance": []
    },
    "kernelspec": {
      "name": "python3",
      "display_name": "Python 3"
    },
    "language_info": {
      "name": "python"
    }
  },
  "cells": [
    {
      "cell_type": "code",
      "execution_count": null,
      "metadata": {
        "id": "AxAPHTOwmliF"
      },
      "outputs": [],
      "source": [
        "import numpy as np\n",
        "\n",
        "def hpD(A2m2, A2m1, A20, A2p1, A2p2, theta, phi):\n",
        "\n",
        "    hpD = (1/32) * np.exp(-2j * phi) * np.sqrt(5/np.pi) * \\\n",
        "        (np.sqrt(2) * (3+np.cos(2 * theta)) * A2m2 \\\n",
        "            - 4 * np.sqrt(2) * np.exp(1j * phi) * np.cos(theta) * np.sin(theta) * A2m1 \\\n",
        "                + 4 * np.sqrt(3) * np.exp(2j * phi) * np.sin(theta)**2 * A20 \\\n",
        "                    + 4 * np.sqrt(2) * np.exp(3j * phi) * np.cos(theta) * np.sin(theta) * A2p1 \\\n",
        "                        + 3 * np.sqrt(2) * np.exp(4j * phi) * A2p2 + np.sqrt(2) * np.exp(4j * phi) * np.cos(2 * theta) * A2p2)\n",
        "\n",
        "\n",
        "    return hpD\n",
        "\n",
        "\n",
        "def hcD(A2m2, A2m1, A20, A2p1, A2p2, theta, phi):\n",
        "\n",
        "    hcD = (1/4) * 1j * np.exp(-2j * phi) * np.sqrt(5 / (2 * np.pi)) * \\\n",
        "        (-np.cos(theta) * A2m2 \\\n",
        "            + np.exp(1j * phi) * np.sin(theta) * A2m1 \\\n",
        "                +  np.exp(3j * phi) * np.sin(theta) * A2p1 \\\n",
        "                    + np.exp(4j * phi) * np.cos(theta) * A2p2)\n",
        "\n",
        "\n",
        "    return hcD"
      ]
    },
    {
      "cell_type": "code",
      "source": [
        "theta_deg = np.array([120])\n",
        "phi_deg = np.array([100])"
      ],
      "metadata": {
        "id": "XyP8NcwMur0v"
      },
      "execution_count": null,
      "outputs": []
    },
    {
      "cell_type": "code",
      "source": [
        "#upload D9.6-3D_Zaxis.dat , D15-3D_Zaxis.dat & D25-3D_Zaxis.dat\n",
        "\n",
        "dat_9x = np.genfromtxt(\"/content/D9.6-3D_Zaxis.dat\")\n",
        "dat_15x = np.genfromtxt(\"/content/D15-3D_Zaxis.dat\")\n",
        "dat_25x = np.genfromtxt(\"/content/D25-3D_Zaxis.dat\")\n",
        "col = [\"post-bounce time (ms)\", r\"$\\mathrm{D}$ $h_{+}$\", r\"$\\mathrm{D}$ $h_{\\times}$\", \"Real(A22)\", \"Im(A22)\", \"Real(A21)\", \"Im(A21)\", \"Real(A20)\", \"Im(A20)\", \"Real(A2-1)\", \"Im(A2-1)\", \"Real(A2-2)\", \"Im(A2-2)\", \"dEdt (10^42 ergs/s)\", \"E_total (10^45 erg)\"]\n",
        "theta = theta_deg * np.pi / 180\n",
        "phi = phi_deg * np.pi / 180"
      ],
      "metadata": {
        "id": "GkFN_noerfKG"
      },
      "execution_count": null,
      "outputs": []
    },
    {
      "cell_type": "code",
      "source": [
        "A9_2m2 = dat_9x[:,11] + dat_9x[:,12]*1j\n",
        "\n",
        "A9_2m1 = dat_9x[:,9] + dat_9x[:,10]*1j\n",
        "\n",
        "A9_20 = dat_9x[:,7] + dat_9x[:,8]*1j\n",
        "\n",
        "A9_2p1 = dat_9x[:,5] + dat_9x[:,6]*1j\n",
        "\n",
        "A9_2p2 = dat_9x[:,3] + dat_9x[:,4]*1j\n",
        "\n",
        "\n",
        "\n",
        "hpD9 = np.zeros((len(dat_9x[:,0]), len(theta), len(phi)))\n",
        "\n",
        "hcD9 = np.zeros((len(dat_9x[:,0]), len(theta), len(phi)))\n",
        "\n",
        "\n",
        "\n",
        "for t in range(len(theta)):\n",
        "\n",
        "    for p in range(len(phi)):\n",
        "\n",
        "\n",
        "\n",
        "        hpD9[:,t,p] = hpD(A9_2m2, A9_2m1, A9_20, A9_2p1, A9_2p2, theta[t], phi[p])\n",
        "\n",
        "        hcD9[:,t,p] = hcD(A9_2m2, A9_2m1, A9_20, A9_2p1, A9_2p2, theta[t], phi[p])\n",
        "\n",
        "\n",
        "\n",
        "A15_2m2 = dat_15x[:,11] + dat_15x[:,12]*1j\n",
        "\n",
        "A15_2m1 = dat_15x[:,9] + dat_15x[:,10]*1j\n",
        "\n",
        "A15_20 = dat_15x[:,7] + dat_15x[:,8]*1j\n",
        "\n",
        "A15_2p1 = dat_15x[:,5] + dat_15x[:,6]*1j\n",
        "\n",
        "A15_2p2 = dat_15x[:,3] + dat_15x[:,4]*1j\n",
        "\n",
        "\n",
        "\n",
        "hpD15 = np.zeros((len(dat_15x[:,0]), len(theta), len(phi)))\n",
        "\n",
        "hcD15 = np.zeros((len(dat_15x[:,0]), len(theta), len(phi)))\n",
        "\n",
        "for t in range(len(theta)):\n",
        "\n",
        "    for p in range(len(phi)):\n",
        "\n",
        "\n",
        "\n",
        "        hpD15[:,t,p] = hpD(A15_2m2, A15_2m1, A15_20, A15_2p1, A15_2p2, theta[t], phi[p])\n",
        "\n",
        "        hcD15[:,t,p] = hcD(A15_2m2, A15_2m1, A15_20, A15_2p1, A15_2p2, theta[t], phi[p])\n",
        "\n",
        "\n",
        "\n",
        "A25_2m2 = dat_25x[:,11] + dat_25x[:,12]*1j\n",
        "\n",
        "A25_2m1 = dat_25x[:,9] + dat_25x[:,10]*1j\n",
        "\n",
        "A25_20 = dat_25x[:,7] + dat_25x[:,8]*1j\n",
        "\n",
        "A25_2p1 = dat_25x[:,5] + dat_25x[:,6]*1j\n",
        "\n",
        "A25_2p2 = dat_25x[:,3] + dat_25x[:,4]*1j\n",
        "\n",
        "\n",
        "\n",
        "hpD25 = np.zeros((len(dat_25x[:,0]), len(theta), len(phi)))\n",
        "\n",
        "hcD25 = np.zeros((len(dat_25x[:,0]), len(theta), len(phi)))\n",
        "\n",
        "for t in range(len(theta)):\n",
        "\n",
        "    for p in range(len(phi)):\n",
        "\n",
        "\n",
        "\n",
        "        hpD25[:,t,p] = hpD(A25_2m2, A25_2m1, A25_20, A25_2p1, A25_2p2, theta[t], phi[p])\n",
        "\n",
        "        hcD25[:,t,p] = hcD(A25_2m2, A25_2m1, A25_20, A25_2p1, A25_2p2, theta[t], phi[p])"
      ],
      "metadata": {
        "colab": {
          "base_uri": "https://localhost:8080/"
        },
        "id": "Heg2xr6IsHBF",
        "outputId": "fda78910-31a9-4e62-8346-4e5d1d95deee"
      },
      "execution_count": null,
      "outputs": [
        {
          "output_type": "stream",
          "name": "stderr",
          "text": [
            "/tmp/ipython-input-4-70847924.py:25: ComplexWarning: Casting complex values to real discards the imaginary part\n",
            "  hpD9[:,t,p] = hpD(A9_2m2, A9_2m1, A9_20, A9_2p1, A9_2p2, theta[t], phi[p])\n",
            "/tmp/ipython-input-4-70847924.py:27: ComplexWarning: Casting complex values to real discards the imaginary part\n",
            "  hcD9[:,t,p] = hcD(A9_2m2, A9_2m1, A9_20, A9_2p1, A9_2p2, theta[t], phi[p])\n",
            "/tmp/ipython-input-4-70847924.py:53: ComplexWarning: Casting complex values to real discards the imaginary part\n",
            "  hpD15[:,t,p] = hpD(A15_2m2, A15_2m1, A15_20, A15_2p1, A15_2p2, theta[t], phi[p])\n",
            "/tmp/ipython-input-4-70847924.py:55: ComplexWarning: Casting complex values to real discards the imaginary part\n",
            "  hcD15[:,t,p] = hcD(A15_2m2, A15_2m1, A15_20, A15_2p1, A15_2p2, theta[t], phi[p])\n",
            "/tmp/ipython-input-4-70847924.py:81: ComplexWarning: Casting complex values to real discards the imaginary part\n",
            "  hpD25[:,t,p] = hpD(A25_2m2, A25_2m1, A25_20, A25_2p1, A25_2p2, theta[t], phi[p])\n",
            "/tmp/ipython-input-4-70847924.py:83: ComplexWarning: Casting complex values to real discards the imaginary part\n",
            "  hcD25[:,t,p] = hcD(A25_2m2, A25_2m1, A25_20, A25_2p1, A25_2p2, theta[t], phi[p])\n"
          ]
        }
      ]
    },
    {
      "cell_type": "code",
      "source": [
        "print(\"hpD25:\", hpD25[0, 0])     # First element\n",
        "print(\"hpD25:\", hcD25)  # First 5 phi values at theta[0]\n",
        "print(\"hcD25 shape:\", hcD25.shape)"
      ],
      "metadata": {
        "colab": {
          "base_uri": "https://localhost:8080/"
        },
        "id": "pyEH-NdEv4Wp",
        "outputId": "29fc6407-e809-4065-f8b7-066c4ba89193"
      },
      "execution_count": null,
      "outputs": [
        {
          "output_type": "stream",
          "name": "stdout",
          "text": [
            "hpD25: [0.52506793]\n",
            "hpD25: [[[ 0.08349981]]\n",
            "\n",
            " [[ 0.09945626]]\n",
            "\n",
            " [[ 0.09899705]]\n",
            "\n",
            " ...\n",
            "\n",
            " [[-2.59123585]]\n",
            "\n",
            " [[ 0.94467297]]\n",
            "\n",
            " [[ 3.37591482]]]\n",
            "hcD25 shape: (2344, 1, 1)\n"
          ]
        }
      ]
    },
    {
      "cell_type": "code",
      "source": [
        "import numpy as np\n",
        "\n",
        "# Extract post-bounce time from file\n",
        "post_bounce_time = dat_25x[:, 0]  # First column\n",
        "\n",
        "# Extract hp and hc at theta=0, phi=0 → index [0, 0]\n",
        "hp_selected = hpD25[:, 0, 0]\n",
        "hc_selected = hcD25[:, 0, 0]\n",
        "\n",
        "# Stack into a single array with shape (N, 3)\n",
        "output_data = np.column_stack((post_bounce_time, hp_selected, hc_selected))\n",
        "\n",
        "# Save to text file\n",
        "np.savetxt(\"D25_strain_theta120_phi100.txt\", output_data, delimiter=\"\\t\",\n",
        "           header=\"Time(ms)\\thpD25\\thcD25\", comments='')\n"
      ],
      "metadata": {
        "id": "Aj82oPDt4YQ8"
      },
      "execution_count": null,
      "outputs": []
    }
  ]
}